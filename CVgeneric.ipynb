{
 "cells": [
  {
   "cell_type": "code",
   "execution_count": 1,
   "metadata": {},
   "outputs": [],
   "source": [
    "import numpy as np\n",
    "import pandas as pd\n",
    "from sklearn.model_selection import KFold"
   ]
  },
  {
   "cell_type": "code",
   "execution_count": 2,
   "metadata": {},
   "outputs": [],
   "source": [
    "def CVgeneric(features, labels, K, classifier, loss):\n",
    "    errors = []\n",
    "    folds = KFold(K)\n",
    "    for train_idx, val_idx in folds.split(features):\n",
    "        train_features, train_labels = features.iloc[train_idx,:], labels.iloc[train_idx]\n",
    "        val_features, val_labels = features.iloc[val_idx,:], labels.iloc[val_idx]\n",
    "        \n",
    "        model = classifier.fit(train_features, train_labels)\n",
    "        predictions = model.predict(val_features)\n",
    "        \n",
    "        errors.append(loss(predictions, val_labels))\n",
    "    return errors    "
   ]
  }
 ],
 "metadata": {
  "kernelspec": {
   "display_name": "Python 3",
   "language": "python",
   "name": "python3"
  },
  "language_info": {
   "codemirror_mode": {
    "name": "ipython",
    "version": 3
   },
   "file_extension": ".py",
   "mimetype": "text/x-python",
   "name": "python",
   "nbconvert_exporter": "python",
   "pygments_lexer": "ipython3",
   "version": "3.6.4"
  }
 },
 "nbformat": 4,
 "nbformat_minor": 2
}
